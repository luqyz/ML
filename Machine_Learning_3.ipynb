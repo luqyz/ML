{
  "cells": [
    {
      "cell_type": "markdown",
      "metadata": {
        "id": "view-in-github",
        "colab_type": "text"
      },
      "source": [
        "<a href=\"https://colab.research.google.com/github/luqyz/ML/blob/main/Machine_Learning_3.ipynb\" target=\"_parent\"><img src=\"https://colab.research.google.com/assets/colab-badge.svg\" alt=\"Open In Colab\"/></a>"
      ]
    },
    {
      "cell_type": "code",
      "execution_count": null,
      "metadata": {
        "id": "2hUmwUBgh8kK"
      },
      "outputs": [],
      "source": [
        "# Make a prediction with weights\n",
        "def predict(row, weights):\n",
        "  activation = weights[0]\n",
        "  for i in range(len(row)-1):\n",
        "    activation += weights[i + 1] * row[i]\n",
        "    return 1.0 if activation >= 0.0 else 0.0"
      ]
    },
    {
      "cell_type": "code",
      "execution_count": null,
      "metadata": {
        "colab": {
          "base_uri": "https://localhost:8080/"
        },
        "id": "KutKO74hBkzU",
        "outputId": "49533b2f-385a-43a8-b8fa-5fe571b9ae88"
      },
      "outputs": [
        {
          "output_type": "stream",
          "name": "stdout",
          "text": [
            "Expected=0, Predicted=0\n",
            "Expected=0, Predicted=0\n",
            "Expected=0, Predicted=0\n",
            "Expected=0, Predicted=0\n",
            "Expected=0, Predicted=0\n",
            "Expected=1, Predicted=1\n",
            "Expected=1, Predicted=1\n",
            "Expected=1, Predicted=1\n",
            "Expected=1, Predicted=1\n",
            "Expected=1, Predicted=1\n"
          ]
        }
      ],
      "source": [
        "# Example of making predictions\n",
        "# Make a prediction with weights\n",
        "def predict(row, weights):\n",
        "  activation = weights[0]\n",
        "  for i in range(len(row)-1):\n",
        "   activation += weights[i + 1] * row[i]\n",
        "  return 1.0 if activation >= 0.0 else 0.0\n",
        "# test predictions\n",
        "dataset = [[2.7810836,2.550537003,0],\n",
        "[1.465489372,2.362125076,0],\n",
        "[3.396561688,4.400293529,0],\n",
        "[1.38807019,1.850220317,0],\n",
        "[3.06407232,3.005305973,0],\n",
        "[7.627531214,2.759262235,1],\n",
        "[5.332441248,2.088626775,1],\n",
        "[6.922596716,1.77106367,1],\n",
        "[8.675418651,-0.242068655,1],\n",
        "[7.673756466,3.508563011,1]]\n",
        "weights = [-0.1, 0.20653640140000007, -0.23418117710000003]\n",
        "for row in dataset:\n",
        "  prediction = predict(row, weights)\n",
        "  print(\"Expected=%d, Predicted=%d\" % (row[-1], prediction))"
      ]
    },
    {
      "cell_type": "code",
      "execution_count": null,
      "metadata": {
        "id": "n5GpLn6bB1s8"
      },
      "outputs": [],
      "source": [
        "# Estimate Perceptron weights using stochastic gradient descent\n",
        "def train_weights(train, l_rate, n_epoch):\n",
        "  weights = [0.0 for i in range(len(train[0]))]\n",
        "  for epoch in range(n_epoch):\n",
        "    sum_error = 0.0\n",
        "    for row in train:\n",
        "       prediction = predict(row, weights)\n",
        "       error = row[-1] - prediction\n",
        "       sum_error += error**2\n",
        "       weights[0] = weights[0] + l_rate * error\n",
        "       for i in range(len(row)-1):\n",
        "         weights[i + 1] = weights[i + 1] + l_rate * error * row[i]\n",
        "       print( '>epoch=%d, lrate=%.3f, error=%.3f' % (epoch, l_rate, sum_error))\n",
        "    return weights"
      ]
    },
    {
      "cell_type": "code",
      "execution_count": null,
      "metadata": {
        "colab": {
          "base_uri": "https://localhost:8080/"
        },
        "id": "9RbemMYKC2jK",
        "outputId": "37596444-2beb-43d1-820c-dbca9391a5aa"
      },
      "outputs": [
        {
          "output_type": "stream",
          "name": "stdout",
          "text": [
            ">epoch=0, lrate=0.100, error=2.000\n",
            ">epoch=1, lrate=0.100, error=1.000\n",
            ">epoch=2, lrate=0.100, error=0.000\n",
            ">epoch=3, lrate=0.100, error=0.000\n",
            ">epoch=4, lrate=0.100, error=0.000\n",
            "[-0.1, 0.20653640140000007, -0.23418117710000003]\n"
          ]
        }
      ],
      "source": [
        "# Example of training weights\n",
        "# Make a prediction with weights\n",
        "def predict(row, weights):\n",
        "  activation = weights[0]\n",
        "  for i in range(len(row)-1):\n",
        "    activation += weights[i + 1] * row[i]\n",
        "  return 1.0 if activation >= 0.0 else 0.0\n",
        "\n",
        "# Estimate Perceptron weights using stochastic gradient descent\n",
        "def train_weights(train, l_rate, n_epoch):\n",
        "  weights = [0.0 for i in range(len(train[0]))]\n",
        "  for epoch in range(n_epoch):\n",
        "    sum_error = 0.0\n",
        "    for row in train:\n",
        "      prediction = predict(row, weights)\n",
        "      error = row[-1] - prediction\n",
        "      sum_error += error**2\n",
        "      weights[0] = weights[0] + l_rate * error\n",
        "      for i in range(len(row)-1):\n",
        "        weights[i + 1] = weights[i + 1] + l_rate * error * row[i]\n",
        "    print( '>epoch=%d, lrate=%.3f, error=%.3f' % (epoch, l_rate, sum_error))\n",
        "  return weights\n",
        "\n",
        "# Calculate weights\n",
        "dataset = [[2.7810836,2.550537003,0],\n",
        "  [1.465489372,2.362125076,0],\n",
        "  [3.396561688,4.400293529,0],\n",
        "  [1.38807019,1.850220317,0],\n",
        "  [3.06407232,3.005305973,0],\n",
        "  [7.627531214,2.759262235,1],\n",
        "  [5.332441248,2.088626775,1],\n",
        "  [6.922596716,1.77106367,1],\n",
        "  [8.675418651,-0.242068655,1],\n",
        "  [7.673756466,3.508563011,1]]\n",
        "l_rate = 0.1\n",
        "n_epoch = 5\n",
        "weights = train_weights(dataset, l_rate, n_epoch)\n",
        "print(weights)"
      ]
    },
    {
      "cell_type": "code",
      "execution_count": null,
      "metadata": {
        "colab": {
          "base_uri": "https://localhost:8080/"
        },
        "id": "SbIVCfEADhWv",
        "outputId": "06886210-70cb-499d-8a23-8d6aa28acba4"
      },
      "outputs": [
        {
          "output_type": "stream",
          "name": "stdout",
          "text": [
            "Scores: [81.15942028985508, 69.56521739130434, 62.31884057971014]\n",
            "Mean Accuracy: 71.014%\n"
          ]
        }
      ],
      "source": [
        "# Perceptron Algorithm on the Sonar Dataset\n",
        "from random import seed\n",
        "from random import randrange\n",
        "from csv import reader\n",
        "\n",
        "# Load a CSV file\n",
        "def load_csv(filename):\n",
        "  dataset = list()\n",
        "  with open(filename, 'r' ) as file:\n",
        "    csv_reader = reader(file)\n",
        "    for row in csv_reader:\n",
        "      if not row:\n",
        "        continue\n",
        "      dataset.append(row)\n",
        "  return dataset\n",
        "\n",
        "# Convert string column to float\n",
        "def str_column_to_float(dataset, column):\n",
        "  for row in dataset:\n",
        "    row[column] = float(row[column].strip())\n",
        "\n",
        "# Convert string column to integer\n",
        "def str_column_to_int(dataset, column):\n",
        "  class_values = [row[column] for row in dataset]\n",
        "  unique = set(class_values)\n",
        "  lookup = dict()\n",
        "  for i, value in enumerate(unique):\n",
        "    lookup[value] = i\n",
        "  for row in dataset:\n",
        "    row[column] = lookup[row[column]]\n",
        "  return lookup\n",
        "\n",
        "# Split a dataset into k folds\n",
        "def cross_validation_split(dataset, n_folds):\n",
        "  dataset_split = []\n",
        "  dataset_copy = list(dataset)\n",
        "  fold_size = int(len(dataset) / n_folds)\n",
        "  for _ in range(n_folds):\n",
        "    fold = []\n",
        "    while len(fold) < fold_size:\n",
        "      index = randrange(len(dataset_copy))\n",
        "      fold.append(dataset_copy.pop(index))\n",
        "    dataset_split.append(fold)\n",
        "  return dataset_split\n",
        "\n",
        "# Calculate accuracy percentage\n",
        "def accuracy_metric(actual, predicted):\n",
        "  correct = 0\n",
        "  for i in range(len(actual)):\n",
        "    if actual[i] == predicted[i]:\n",
        "      correct += 1\n",
        "  return correct / float(len(actual)) * 100.0\n",
        "\n",
        "# Update evaluate_algorithm function\n",
        "def evaluate_algorithm(dataset, algorithm, n_folds, *args):\n",
        "    folds = cross_validation_split(dataset, n_folds)\n",
        "    scores = list()\n",
        "    for fold in folds:\n",
        "        train_set = list(folds)\n",
        "        train_set.remove(fold)\n",
        "        train_set = sum(train_set, [])\n",
        "        test_set = list()\n",
        "        for row in fold:\n",
        "            row_copy = list(row)\n",
        "            test_set.append(row_copy)\n",
        "            row_copy[-1] = None\n",
        "\n",
        "        if algorithm.__name__ == 'naive_bayes':\n",
        "            predicted = algorithm(train_set, test_set)\n",
        "        elif algorithm.__name__ == 'decision_tree':\n",
        "            predicted = algorithm(train_set, test_set)\n",
        "        else:\n",
        "            predicted = algorithm(train_set, test_set, *args)\n",
        "\n",
        "        actual = [row[-1] for row in fold]\n",
        "        accuracy = accuracy_metric(actual, predicted)\n",
        "        scores.append(accuracy)\n",
        "    return scores\n",
        "\n",
        "\n",
        "\n",
        "\n",
        "# Make a prediction with weights\n",
        "def predict(row, weights):\n",
        "  activation = weights[0]\n",
        "  for i in range(len(row)-1):\n",
        "    activation += weights[i + 1] * row[i]\n",
        "  return 1.0 if activation >= 0.0 else 0.0\n",
        "\n",
        "# Estimate Perceptron weights using stochastic gradient descent\n",
        "def train_weights(train, l_rate, n_epoch):\n",
        "  weights = [0.0 for i in range(len(train[0]))]\n",
        "  for _ in range(n_epoch):\n",
        "    for row in train:\n",
        "      prediction = predict(row, weights)\n",
        "      error = row[-1] - prediction\n",
        "      weights[0] = weights[0] + l_rate * error\n",
        "      for i in range(len(row)-1):\n",
        "        weights[i + 1] = weights[i + 1] + l_rate * error * row[i]\n",
        "  return weights\n",
        "\n",
        "# Perceptron Algorithm With Stochastic Gradient Descent\n",
        "def perceptron(train, test, l_rate, n_epoch):\n",
        "  predictions = list()\n",
        "  weights = train_weights(train, l_rate, n_epoch)\n",
        "  for row in test:\n",
        "    prediction = predict(row, weights)\n",
        "    predictions.append(prediction)\n",
        "  return(predictions)\n",
        "\n",
        "# Test the Perceptron algorithm on the sonar dataset\n",
        "seed(1)\n",
        "\n",
        "# load and prepare data\n",
        "filename = 'sonar.all-data.csv'\n",
        "dataset = load_csv(filename)\n",
        "for i in range(len(dataset[0])-1):\n",
        "  str_column_to_float(dataset, i)\n",
        "# convert string class to integers\n",
        "str_column_to_int(dataset, len(dataset[0])-1)\n",
        "# evaluate algorithm\n",
        "n_folds = 3\n",
        "l_rate = 0.01\n",
        "n_epoch = 500\n",
        "scores = evaluate_algorithm(dataset, perceptron, n_folds, l_rate, n_epoch)\n",
        "print( 'Scores: %s' % scores)\n",
        "print( 'Mean Accuracy: %.3f%%' % (sum(scores)/float(len(scores))))"
      ]
    },
    {
      "cell_type": "code",
      "source": [
        "import math\n",
        "\n",
        "# Step activation function (default)\n",
        "def step_activation(activation):\n",
        "    return 1.0 if activation >= 0.0 else 0.0\n",
        "\n",
        "# Sign activation function\n",
        "def sign_activation(activation):\n",
        "    return 1.0 if activation >= 0.0 else -1.0\n",
        "\n",
        "# Sigmoid activation function\n",
        "def sigmoid_activation(activation):\n",
        "    return 1.0 / (1.0 + math.exp(-activation))\n",
        "\n",
        "# Update predict function to use the desired activation function\n",
        "def predict(row, weights, activation_func=step_activation):\n",
        "    activation = weights[0]\n",
        "    for i in range(len(row)-1):\n",
        "        activation += weights[i + 1] * row[i]\n",
        "    return activation_func(activation)\n",
        "\n",
        "# Update perceptron function to accept activation function\n",
        "def perceptron(train, test, l_rate, n_epoch, activation_func):\n",
        "    predictions = list()\n",
        "    weights = train_weights(train, l_rate, n_epoch)\n",
        "    for row in test:\n",
        "        prediction = predict(row, weights, activation_func)\n",
        "        predictions.append(round(prediction))\n",
        "    return predictions\n",
        "\n",
        "# Test the perceptron algorithm with different activation functions\n",
        "activation_functions = [step_activation, sign_activation, sigmoid_activation]\n",
        "for activation_func in activation_functions:\n",
        "    scores = evaluate_algorithm(dataset, perceptron, n_folds, l_rate, n_epoch, activation_func)\n",
        "    print('Activation Function:', activation_func.__name__)\n",
        "    print('Scores:', scores)\n",
        "    print('Mean Accuracy: %.3f%%' % (sum(scores) / float(len(scores))))\n"
      ],
      "metadata": {
        "colab": {
          "base_uri": "https://localhost:8080/"
        },
        "id": "QgF6daiJW5iZ",
        "outputId": "139a73fa-e383-467a-f128-a6f93b639cc5"
      },
      "execution_count": null,
      "outputs": [
        {
          "output_type": "stream",
          "name": "stdout",
          "text": [
            "Activation Function: step_activation\n",
            "Scores: [71.01449275362319, 66.66666666666666, 65.21739130434783]\n",
            "Mean Accuracy: 67.633%\n",
            "Activation Function: sign_activation\n",
            "Scores: [37.68115942028986, 50.72463768115942, 33.33333333333333]\n",
            "Mean Accuracy: 40.580%\n",
            "Activation Function: sigmoid_activation\n",
            "Scores: [69.56521739130434, 71.01449275362319, 78.26086956521739]\n",
            "Mean Accuracy: 72.947%\n"
          ]
        }
      ]
    },
    {
      "cell_type": "markdown",
      "source": [
        "#Q3"
      ],
      "metadata": {
        "id": "40oDQMqgRGta"
      }
    },
    {
      "cell_type": "code",
      "source": [
        "learning_rates = [0.001, 0.01, 0.1]\n",
        "activation_functions = [step_activation, sign_activation, sigmoid_activation]\n",
        "results = {}\n",
        "\n",
        "for lr in learning_rates:\n",
        "    for activation_func in activation_functions:\n",
        "        scores = evaluate_algorithm(dataset, perceptron, n_folds, lr, n_epoch, activation_func)\n",
        "        key = (lr, activation_func.__name__)\n",
        "        results[key] = scores\n",
        "\n",
        "# Print tabulated results\n",
        "for key, scores in results.items():\n",
        "    print(f\"Learning Rate: {key[0]}, Activation Function: {key[1]}\")\n",
        "    print(\"Scores:\", scores)\n",
        "    print(\"Mean Accuracy: %.3f%%\" % (sum(scores) / len(scores)))\n"
      ],
      "metadata": {
        "colab": {
          "base_uri": "https://localhost:8080/"
        },
        "id": "5CqE9ZdqCqjw",
        "outputId": "ebc0313e-503a-4f3e-a1d6-75ca4c44c324"
      },
      "execution_count": null,
      "outputs": [
        {
          "output_type": "stream",
          "name": "stdout",
          "text": [
            "Learning Rate: 0.001, Activation Function: step_activation\n",
            "Scores: [62.31884057971014, 65.21739130434783, 72.46376811594203]\n",
            "Mean Accuracy: 66.667%\n",
            "Learning Rate: 0.001, Activation Function: sign_activation\n",
            "Scores: [47.82608695652174, 49.275362318840585, 36.231884057971016]\n",
            "Mean Accuracy: 44.444%\n",
            "Learning Rate: 0.001, Activation Function: sigmoid_activation\n",
            "Scores: [68.11594202898551, 75.36231884057972, 68.11594202898551]\n",
            "Mean Accuracy: 70.531%\n",
            "Learning Rate: 0.01, Activation Function: step_activation\n",
            "Scores: [69.56521739130434, 69.56521739130434, 78.26086956521739]\n",
            "Mean Accuracy: 72.464%\n",
            "Learning Rate: 0.01, Activation Function: sign_activation\n",
            "Scores: [49.275362318840585, 43.47826086956522, 43.47826086956522]\n",
            "Mean Accuracy: 45.411%\n",
            "Learning Rate: 0.01, Activation Function: sigmoid_activation\n",
            "Scores: [71.01449275362319, 76.81159420289855, 78.26086956521739]\n",
            "Mean Accuracy: 75.362%\n",
            "Learning Rate: 0.1, Activation Function: step_activation\n",
            "Scores: [76.81159420289855, 71.01449275362319, 75.36231884057972]\n",
            "Mean Accuracy: 74.396%\n",
            "Learning Rate: 0.1, Activation Function: sign_activation\n",
            "Scores: [30.434782608695656, 37.68115942028986, 55.072463768115945]\n",
            "Mean Accuracy: 41.063%\n",
            "Learning Rate: 0.1, Activation Function: sigmoid_activation\n",
            "Scores: [73.91304347826086, 62.31884057971014, 72.46376811594203]\n",
            "Mean Accuracy: 69.565%\n"
          ]
        }
      ]
    },
    {
      "cell_type": "markdown",
      "source": [
        "#Q4"
      ],
      "metadata": {
        "id": "86Z58Ze4RKRc"
      }
    },
    {
      "cell_type": "code",
      "source": [
        "# Importing necessary libraries\n",
        "import matplotlib.pyplot as plt\n",
        "import numpy as np\n",
        "\n",
        "# Tuning the number of epochs\n",
        "n_epoch_range = range(10, 21)  # Range of epochs from 10 to 20\n",
        "learning_rate = 0.01  # Assuming a fixed learning rate\n",
        "\n",
        "train_errors = []\n",
        "validation_errors = []\n",
        "\n",
        "for n_epoch in n_epoch_range:\n",
        "    # Lists to store errors for each fold\n",
        "    train_errors_fold = []\n",
        "    validation_errors_fold = []\n",
        "\n",
        "    # Redefine folds here\n",
        "    folds = cross_validation_split(dataset, n_folds)\n",
        "\n",
        "    for fold in folds:\n",
        "        train_set = list(dataset)\n",
        "        train_set = [row for row in train_set if row not in fold]  # Remove rows in fold from train_set\n",
        "        test_set = list(fold)\n",
        "\n",
        "        # Training\n",
        "        weights = train_weights(train_set, learning_rate, n_epoch)\n",
        "\n",
        "        # Calculating errors for train set\n",
        "        train_error = 0\n",
        "        for row in train_set:\n",
        "            prediction = predict(row, weights)\n",
        "            train_error += (row[-1] - prediction) ** 2\n",
        "        train_error /= len(train_set)\n",
        "        train_errors_fold.append(train_error)\n",
        "\n",
        "        # Calculating errors for test set (validation error)\n",
        "        validation_error = 0\n",
        "        for row in test_set:\n",
        "            prediction = predict(row, weights)\n",
        "            validation_error += (row[-1] - prediction) ** 2\n",
        "        validation_error /= len(test_set)\n",
        "        validation_errors_fold.append(validation_error)\n",
        "\n",
        "    # Compute mean error across folds for each epoch\n",
        "    mean_train_error = np.mean(train_errors_fold)\n",
        "    mean_validation_error = np.mean(validation_errors_fold)\n",
        "\n",
        "    train_errors.append(mean_train_error)\n",
        "    validation_errors.append(mean_validation_error)\n",
        "\n",
        "    # Print the current values of n_epoch and mean error\n",
        "    print(f\"n_epoch: {n_epoch}, Mean Training Error: {mean_train_error}, Mean Validation Error: {mean_validation_error}\")\n",
        "\n",
        "# Plotting the convergence graph\n",
        "plt.plot(n_epoch_range, [error ** 2 for error in train_errors], label='Training Error', marker='o')\n",
        "plt.plot(n_epoch_range, [error ** 2 for error in validation_errors], label='Validation Error', marker='o')\n",
        "plt.title('Convergence Graph')\n",
        "plt.xlabel('Number of Epochs')\n",
        "plt.ylabel('Sum Squared Error')\n",
        "plt.legend()\n",
        "plt.grid(True)\n",
        "plt.show()\n",
        "\n"
      ],
      "metadata": {
        "colab": {
          "base_uri": "https://localhost:8080/",
          "height": 672
        },
        "id": "3gK-iz18CxAa",
        "outputId": "dd1d1ee4-d8a8-4990-9fd7-edea1f7c6501"
      },
      "execution_count": null,
      "outputs": [
        {
          "output_type": "stream",
          "name": "stdout",
          "text": [
            "n_epoch: 10, Mean Training Error: 0.46522781774580335, Mean Validation Error: 0.45893719806763283\n",
            "n_epoch: 11, Mean Training Error: 0.4676258992805755, Mean Validation Error: 0.463768115942029\n",
            "n_epoch: 12, Mean Training Error: 0.46522781774580335, Mean Validation Error: 0.46859903381642515\n",
            "n_epoch: 13, Mean Training Error: 0.46282973621103113, Mean Validation Error: 0.46859903381642515\n",
            "n_epoch: 14, Mean Training Error: 0.4628297362110312, Mean Validation Error: 0.4589371980676329\n",
            "n_epoch: 15, Mean Training Error: 0.46522781774580335, Mean Validation Error: 0.46859903381642515\n",
            "n_epoch: 16, Mean Training Error: 0.46522781774580335, Mean Validation Error: 0.46859903381642515\n",
            "n_epoch: 17, Mean Training Error: 0.4676258992805756, Mean Validation Error: 0.463768115942029\n",
            "n_epoch: 18, Mean Training Error: 0.46522781774580335, Mean Validation Error: 0.46859903381642515\n",
            "n_epoch: 19, Mean Training Error: 0.46522781774580335, Mean Validation Error: 0.46859903381642515\n",
            "n_epoch: 20, Mean Training Error: 0.46522781774580335, Mean Validation Error: 0.46859903381642515\n"
          ]
        },
        {
          "output_type": "display_data",
          "data": {
            "text/plain": [
              "<Figure size 640x480 with 1 Axes>"
            ],
            "image/png": "[encoded data removed]"
          },
          "metadata": {}
        }
      ]
    },
    {
      "cell_type": "code",
      "source": [
        "pip install prettytable\n"
      ],
      "metadata": {
        "colab": {
          "base_uri": "https://localhost:8080/"
        },
        "id": "hHtMgAjPzL-l",
        "outputId": "ea9f40ad-f7ce-4165-b318-f5707d82c1f8"
      },
      "execution_count": null,
      "outputs": [
        {
          "output_type": "stream",
          "name": "stdout",
          "text": [
            "Requirement already satisfied: prettytable in /usr/local/lib/python3.10/dist-packages (3.10.0)\n",
            "Requirement already satisfied: wcwidth in /usr/local/lib/python3.10/dist-packages (from prettytable) (0.2.13)\n"
          ]
        }
      ]
    },
    {
      "cell_type": "code",
      "source": [
        "from prettytable import PrettyTable\n",
        "import numpy as np\n",
        "\n",
        "# Importing necessary libraries\n",
        "from sklearn.naive_bayes import GaussianNB\n",
        "from sklearn.tree import DecisionTreeClassifier\n",
        "from sklearn.model_selection import cross_val_score\n",
        "\n",
        "# Define a function to evaluate Naive Bayes algorithm\n",
        "def naive_bayes(train, test):\n",
        "    train_X = [row[:-1] for row in train]\n",
        "    train_y = [row[-1] for row in train]\n",
        "    test_X = [row[:-1] for row in test]\n",
        "    test_y = [row[-1] for row in test]\n",
        "    model = GaussianNB()\n",
        "    model.fit(train_X, train_y)\n",
        "    predictions = model.predict(test_X)\n",
        "    return predictions\n",
        "\n",
        "# Define a function to evaluate Decision Tree algorithm\n",
        "def decision_tree(train, test):\n",
        "    train_X = [row[:-1] for row in train]\n",
        "    train_y = [row[-1] for row in train]\n",
        "    test_X = [row[:-1] for row in test]\n",
        "    test_y = [row[-1] for row in test]\n",
        "    model = DecisionTreeClassifier()\n",
        "    model.fit(train_X, train_y)\n",
        "    predictions = model.predict(test_X)\n",
        "    return predictions\n",
        "\n",
        "# Add Naive Bayes and Decision Tree to the list of algorithms\n",
        "algorithms = [perceptron, naive_bayes, decision_tree]\n",
        "\n",
        "# Run evaluation for each algorithm 10 times\n",
        "results = {}\n",
        "for algorithm in algorithms:\n",
        "    all_scores = []\n",
        "    for _ in range(10):\n",
        "        # Assuming you have a fixed learning rate, you can assign it directly here\n",
        "        fixed_learning_rate = 0.01\n",
        "        scores = evaluate_algorithm(dataset, algorithm, n_folds, fixed_learning_rate, n_epoch, activation_func)\n",
        "        all_scores.extend(scores)\n",
        "    mean_accuracy = np.mean(all_scores)\n",
        "    min_accuracy = np.min(all_scores)\n",
        "    max_accuracy = np.max(all_scores)\n",
        "    std_accuracy = np.std(all_scores)\n",
        "    results[algorithm.__name__] = [min_accuracy, max_accuracy, mean_accuracy, std_accuracy] + [score / 100 for score in all_scores]\n",
        "\n",
        "# Create a PrettyTable instance\n",
        "table = PrettyTable()\n",
        "\n",
        "# Add columns\n",
        "table.field_names = [\"Algorithm\", \"Run 1\", \"Run 2\", \"Run 3\", \"Run 4\", \"Run 5\", \"Run 6\", \"Run 7\", \"Run 8\", \"Run 9\", \"Run 10\", \"Min\", \"Max\", \"Avg\", \"Std\"]\n",
        "\n",
        "# Add data rows\n",
        "for key, values in results.items():\n",
        "    table.add_row([key] + [\"%.5f\" % value for value in values[4:14]] + [\"%.5f\" % value for value in values[:4]])\n",
        "\n",
        "# Print the table\n",
        "print(table)\n",
        "\n",
        "# Draw a box plot to summarize the results\n",
        "import matplotlib.pyplot as plt\n",
        "plt.figure(figsize=(10, 6))\n",
        "plt.boxplot([np.array(scores[4:14]) for scores in results.values()], labels=results.keys())\n",
        "plt.title(\"Algorithm Comparison\")\n",
        "plt.xlabel(\"Algorithm\")\n",
        "plt.ylabel(\"Accuracy\")\n",
        "plt.show()\n"
      ],
      "metadata": {
        "colab": {
          "base_uri": "https://localhost:8080/",
          "height": 181
        },
        "id": "erXQvdcuvWK1",
        "outputId": "4708354d-dbf9-41cb-ab6d-baf9f861c6b5"
      },
      "execution_count": null,
      "outputs": [
        {
          "output_type": "stream",
          "name": "stdout",
          "text": [
            "+---------------+---------+---------+---------+---------+---------+---------+---------+---------+---------+---------+----------+----------+----------+---------+\n",
            "|   Algorithm   |  Run 1  |  Run 2  |  Run 3  |  Run 4  |  Run 5  |  Run 6  |  Run 7  |  Run 8  |  Run 9  |  Run 10 |   Min    |   Max    |   Avg    |   Std   |\n",
            "+---------------+---------+---------+---------+---------+---------+---------+---------+---------+---------+---------+----------+----------+----------+---------+\n",
            "|   perceptron  | 0.79710 | 0.59420 | 0.65217 | 0.71014 | 0.66667 | 0.65217 | 0.60870 | 0.60870 | 0.56522 | 0.66667 | 49.27536 | 79.71014 | 68.26087 | 8.34519 |\n",
            "|  naive_bayes  | 0.63768 | 0.72464 | 0.63768 | 0.62319 | 0.63768 | 0.73913 | 0.65217 | 0.65217 | 0.72464 | 0.68116 | 60.86957 | 75.36232 | 67.63285 | 4.22256 |\n",
            "| decision_tree | 0.60870 | 0.76812 | 0.71014 | 0.69565 | 0.72464 | 0.79710 | 0.71014 | 0.69565 | 0.72464 | 0.72464 | 60.86957 | 79.71014 | 70.96618 | 3.98631 |\n",
            "+---------------+---------+---------+---------+---------+---------+---------+---------+---------+---------+---------+----------+----------+----------+---------+\n"
          ]
        },
        {
          "output_type": "display_data",
          "data": {
            "text/plain": [
              "<Figure size 1000x600 with 1 Axes>"
            ],
            "image/png": "[encoded data removed]"
          },
          "metadata": {}
        }
      ]
    }
  ],
  "metadata": {
    "colab": {
      "provenance": [],
      "authorship_tag": "ABX9TyNwEydcWQnV/zT8OPzxye+o",
      "include_colab_link": true
    },
    "kernelspec": {
      "display_name": "Python 3",
      "name": "python3"
    },
    "language_info": {
      "name": "python"
    }
  },
  "nbformat": 4,
  "nbformat_minor": 0
}